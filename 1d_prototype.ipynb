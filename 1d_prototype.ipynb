{
 "cells": [
  {
   "cell_type": "code",
   "execution_count": null,
   "id": "f92ded82",
   "metadata": {},
   "outputs": [],
   "source": [
    "import numpy as np\n",
    "import matplotlib.pyplot as plt"
   ]
  },
  {
   "cell_type": "markdown",
   "id": "9e4dfbe1",
   "metadata": {},
   "source": [
    "# Build a dataset"
   ]
  },
  {
   "cell_type": "code",
   "execution_count": null,
   "id": "11886097",
   "metadata": {},
   "outputs": [],
   "source": [
    "def draw_states_and_observations(rng_seed: int = 123):\n",
    "    \"\"\"Truck example from Wikipedia\"\"\"\n",
    "    \n",
    "    # Parameters\n",
    "    sigma_a = 0.01  # Stddev of acceleration\n",
    "    sigma_obs = 0.1  # Stddev of position observation\n",
    "    n_steps = 1000\n",
    "    \n",
    "    # RNG setup\n",
    "    rng = np.random.RandomState(rng_seed)\n",
    "    \n",
    "    def get_noisy_obs(state):\n",
    "        v = rng.normal(loc=0.0, scale=sigma_obs, size=())\n",
    "        obs = state[0] + v\n",
    "        return obs\n",
    "    \n",
    "    # Initial state\n",
    "    state_history = [np.array([0.0, 0.0])]\n",
    "    obs_history = [get_noisy_obs(state_history[0])]\n",
    "    \n",
    "    for k in range(n_steps):\n",
    "        old_state = state_history[-1]\n",
    "        w = rng.normal(loc=0.0, scale=sigma_a, size=()) * np.array([0.5, 1.0])\n",
    "        new_state = np.array([[1, 1], [0, 0.9]]) @ old_state + w\n",
    "        state_history.append(new_state)\n",
    "        obs_history.append(get_noisy_obs(new_state))\n",
    "    \n",
    "    return state_history, obs_history"
   ]
  },
  {
   "cell_type": "code",
   "execution_count": null,
   "id": "4f46e315",
   "metadata": {},
   "outputs": [],
   "source": [
    "state_history, obs_history = draw_states_and_observations(rng_seed=123)"
   ]
  },
  {
   "cell_type": "code",
   "execution_count": null,
   "id": "c9a4243d",
   "metadata": {
    "scrolled": false
   },
   "outputs": [],
   "source": [
    "plt.plot([x for x, _ in state_history])\n",
    "plt.plot(obs_history)"
   ]
  },
  {
   "cell_type": "markdown",
   "id": "efcd7f2d",
   "metadata": {},
   "source": [
    "# Implement the Kalman Filter"
   ]
  },
  {
   "cell_type": "code",
   "execution_count": null,
   "id": "b4f0f478",
   "metadata": {},
   "outputs": [],
   "source": [
    "class KalmanFilter:\n",
    "    \n",
    "    def __init__(\n",
    "        self,\n",
    "        initial_state_mean: np.array,\n",
    "        initial_covariance: np.array,\n",
    "        state_transition_model: np.array,\n",
    "        process_noise_covariance: np.array,\n",
    "        observation_model: np.array,\n",
    "        observation_noise_covariance: np.array\n",
    "    ):\n",
    "        # Use Wikipedia notation internally\n",
    "        self._F = state_transition_model\n",
    "        self._H = observation_model\n",
    "        self._Q = process_noise_covariance\n",
    "        self._R = observation_noise_covariance\n",
    "        \n",
    "        self._x = initial_state_mean\n",
    "        self._P = initial_state_covariance\n",
    "        \n",
    "        # FIXME - get shapes and raise errors if shapes are not as expected\n",
    "    \n",
    "    def predict() -> np.array:\n",
    "        \"\"\"Run a single timestep of the model and return the a priori estimates\"\"\"\n",
    "        # FIXME - implement this\n",
    "    \n",
    "    def update(observation: np.array) -> np.array:\n",
    "        \"\"\"Incorporate the observations and return the a posteriori estimates\"\"\"\n",
    "        # FIXME - implement this"
   ]
  }
 ],
 "metadata": {
  "kernelspec": {
   "display_name": "Python 3 (ipykernel)",
   "language": "python",
   "name": "python3"
  },
  "language_info": {
   "codemirror_mode": {
    "name": "ipython",
    "version": 3
   },
   "file_extension": ".py",
   "mimetype": "text/x-python",
   "name": "python",
   "nbconvert_exporter": "python",
   "pygments_lexer": "ipython3",
   "version": "3.9.16"
  }
 },
 "nbformat": 4,
 "nbformat_minor": 5
}

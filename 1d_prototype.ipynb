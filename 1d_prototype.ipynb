{
 "cells": [
  {
   "cell_type": "code",
   "execution_count": null,
   "id": "f92ded82",
   "metadata": {},
   "outputs": [],
   "source": [
    "import numpy as np\n",
    "import matplotlib.pyplot as plt"
   ]
  },
  {
   "cell_type": "markdown",
   "id": "9e4dfbe1",
   "metadata": {},
   "source": [
    "# Build a dataset"
   ]
  },
  {
   "cell_type": "code",
   "execution_count": null,
   "id": "11886097",
   "metadata": {},
   "outputs": [],
   "source": [
    "def draw_states_and_observations(rng_seed: int = 123):\n",
    "    \"\"\"Truck example from Wikipedia\"\"\"\n",
    "    \n",
    "    # Parameters\n",
    "    sigma_a = 0.01  # Stddev of acceleration\n",
    "    sigma_obs = 0.1  # Stddev of position observation\n",
    "    n_steps = 1000\n",
    "    \n",
    "    # RNG setup\n",
    "    rng = np.random.RandomState(rng_seed)\n",
    "    \n",
    "    def get_noisy_obs(state):\n",
    "        v = rng.normal(loc=0.0, scale=sigma_obs, size=())\n",
    "        obs = state[0] + v\n",
    "        return obs\n",
    "    \n",
    "    # Initial state\n",
    "    state_history = [np.array([0.0, 0.0])]\n",
    "    obs_history = [get_noisy_obs(state_history[0])]\n",
    "    \n",
    "    for k in range(n_steps):\n",
    "        old_state = state_history[-1]\n",
    "        w = rng.normal(loc=0.0, scale=sigma_a, size=()) * np.array([0.5, 1.0])\n",
    "        new_state = np.array([[1, 1], [0, 0.9]]) @ old_state + w\n",
    "        state_history.append(new_state)\n",
    "        obs_history.append(get_noisy_obs(new_state))\n",
    "    \n",
    "    return state_history, obs_history"
   ]
  },
  {
   "cell_type": "code",
   "execution_count": null,
   "id": "4f46e315",
   "metadata": {},
   "outputs": [],
   "source": [
    "state_history, obs_history = draw_states_and_observations(rng_seed=123)"
   ]
  },
  {
   "cell_type": "code",
   "execution_count": null,
   "id": "c9a4243d",
   "metadata": {
    "scrolled": false
   },
   "outputs": [],
   "source": [
    "plt.plot(obs_history, label='Observations')\n",
    "plt.plot([x for x, _ in state_history], label='Position')\n",
    "plt.legend()"
   ]
  },
  {
   "cell_type": "markdown",
   "id": "efcd7f2d",
   "metadata": {},
   "source": [
    "# Implement the Kalman Filter"
   ]
  },
  {
   "cell_type": "code",
   "execution_count": null,
   "id": "b4f0f478",
   "metadata": {},
   "outputs": [],
   "source": [
    "class KalmanFilter:\n",
    "    \n",
    "    def __init__(\n",
    "        self,\n",
    "        initial_state_mean: np.array,\n",
    "        initial_covariance: np.array,\n",
    "        state_transition_model: np.array,\n",
    "        process_noise_covariance: np.array,\n",
    "        observation_model: np.array,\n",
    "        observation_noise_covariance: np.array\n",
    "    ):\n",
    "        # Test that shapes of arrays are self-consistent\n",
    "        (d_state,) = initial_state_mean.shape\n",
    "        assert initial_covariance.shape == (d_state, d_state)\n",
    "        assert state_transition_model.shape == (d_state, d_state)\n",
    "        assert process_noise_covariance.shape == (d_state, d_state)\n",
    "        assert observation_model.shape[1] == d_state\n",
    "        d_obs = observation_model.shape[0]\n",
    "        assert observation_noise_covariance.shape == (d_obs, d_obs)\n",
    "        self._d_obs = d_obs\n",
    "        self._d_state = d_state\n",
    "        \n",
    "        # Use Wikipedia notation internally\n",
    "        self._F = state_transition_model\n",
    "        self._H = observation_model\n",
    "        self._Q = process_noise_covariance\n",
    "        self._R = observation_noise_covariance\n",
    "        \n",
    "        self._x = initial_state_mean\n",
    "        self._P = initial_covariance\n",
    "    \n",
    "    def predict(self) -> np.array:\n",
    "        \"\"\"Run a single timestep of the model and return the a priori estimates\"\"\"\n",
    "        self._x = self._F @ self._x\n",
    "        self._P = self._F @ self._P @ self._F.T + self._Q\n",
    "        return self._x, self._P\n",
    "    \n",
    "    def update(self, observation: np.array) -> np.array:\n",
    "        \"\"\"Incorporate the observations and return the a posteriori estimates\"\"\"\n",
    "        assert observation.shape == (self._d_obs,)\n",
    "        z = observation  # Match Wikipedia notation\n",
    "        y = z - self._H @ self._x  # Innovation\n",
    "        S = self._H @ self._P @ self._H.T + self._R  # Innovation covariance\n",
    "        K = self._P @ self._H.T @ np.linalg.inv(S)  # Optimal Kalman gain\n",
    "        self._x = self._x + K @ y  # Update the state estimate\n",
    "        self._P = (np.eye(self._d_state) - K @ self._H) @ self._P  # Update the covariance estimate\n",
    "        return self._x, self._P"
   ]
  },
  {
   "cell_type": "markdown",
   "id": "ae380fe9",
   "metadata": {},
   "source": [
    "# Use Kalman filter on the 'truck' problem"
   ]
  },
  {
   "cell_type": "code",
   "execution_count": null,
   "id": "89e802b8",
   "metadata": {},
   "outputs": [],
   "source": [
    "kf = KalmanFilter(\n",
    "    initial_state_mean=np.array([0.0, 0.0]),\n",
    "    initial_covariance=np.zeros((2, 2)),\n",
    "    state_transition_model=np.array([[1, 1], [0, 0.9]]),\n",
    "    process_noise_covariance=(0.01**2)*np.array([[0.25, 0.5], [0.5, 1.0]]),\n",
    "    observation_model=np.array([[1.0, 0.0]]),\n",
    "    observation_noise_covariance=np.array([[0.1**2]])\n",
    ")"
   ]
  },
  {
   "cell_type": "code",
   "execution_count": null,
   "id": "a3822b54",
   "metadata": {},
   "outputs": [],
   "source": [
    "x_apriori_estimate_history = [np.array([0.0, 0.0])]\n",
    "x_estimate_history = [np.array([0.0, 0.0])]\n",
    "\n",
    "\n",
    "for obs in obs_history[1:]:\n",
    "    x_prior, _ = kf.predict()\n",
    "    x_apriori_estimate_history.append(x_prior)\n",
    "    x_post, _ = kf.update(np.array([obs]))\n",
    "    x_estimate_history.append(x_post)"
   ]
  },
  {
   "cell_type": "code",
   "execution_count": null,
   "id": "38d6bf1e",
   "metadata": {},
   "outputs": [],
   "source": [
    "plt.plot([x for x, _ in state_history], label='True position')\n",
    "plt.plot([x for x, _ in x_estimate_history], label='Position (posterior) estimate')\n",
    "plt.legend()"
   ]
  },
  {
   "cell_type": "code",
   "execution_count": null,
   "id": "0a428886",
   "metadata": {},
   "outputs": [],
   "source": [
    "plt.plot([x for x, _ in state_history], '.-', label='True position')\n",
    "plt.plot([x for x, _ in x_estimate_history], '.-', label='Posterior estimate')\n",
    "plt.plot([x for x, _ in x_apriori_estimate_history], '.-', label='A priori estimate')\n",
    "plt.xlim(200, 220)\n",
    "plt.ylim(-2.5, -1.5)\n",
    "plt.legend()\n",
    "plt.show()"
   ]
  },
  {
   "cell_type": "code",
   "execution_count": null,
   "id": "1e029b41",
   "metadata": {},
   "outputs": [],
   "source": [
    "def make_moving_avg(xs, n):\n",
    "    ys = np.array(xs).copy()\n",
    "    for i in range(1, n):\n",
    "        ys[i:] += xs[:-i]\n",
    "    ys[n:] *= (1/n)\n",
    "    for i in range(n):\n",
    "        ys[i] *= (1/(i+1))\n",
    "    return ys\n",
    "\n",
    "smoothed_obs_2_history = make_moving_avg(obs_history, n=2)\n",
    "smoothed_obs_3_history = make_moving_avg(obs_history, n=3)"
   ]
  },
  {
   "cell_type": "code",
   "execution_count": null,
   "id": "947e34ea",
   "metadata": {},
   "outputs": [],
   "source": [
    "mse_obs = np.array([(t[0] - t[1][0])**2 for t in zip(obs_history, state_history)]).mean()\n",
    "mse_prior = np.array([(t[0] - t[1][0])**2 for t in zip(obs_history, x_apriori_estimate_history)]).mean()\n",
    "mse_post = np.array([(t[0] - t[1][0])**2 for t in zip(obs_history, x_estimate_history)]).mean()\n",
    "\n",
    "print('MSEs:')\n",
    "print(f'Observations:\\t\\t{mse_obs:.6f}')\n",
    "print(f'A priori estimates:\\t{mse_prior:.6f} ({(mse_obs - mse_prior)/mse_obs:+.2%} reduction)')\n",
    "print(f'A posteriori estimates:\\t{mse_post:.6f} ({(mse_obs - mse_post)/mse_obs:+.2%} reduction)')\n",
    "\n",
    "mse_smoothing_2 = np.array([(t[0] - t[1])**2 for t in zip(obs_history, smoothed_obs_2_history)]).mean()\n",
    "mse_smoothing_3 = np.array([(t[0] - t[1])**2 for t in zip(obs_history, smoothed_obs_3_history)]).mean()\n",
    "\n",
    "print(f'Moving avg (n=2):\\t{mse_smoothing_2:.6f} ({(mse_obs - mse_smoothing_2)/mse_obs:+.2%} reduction)')\n",
    "print(f'Moving avg (n=3):\\t{mse_smoothing_3:.6f} ({(mse_obs - mse_smoothing_3)/mse_obs:+.2%} reduction)')"
   ]
  },
  {
   "cell_type": "code",
   "execution_count": null,
   "id": "85dcc2a6",
   "metadata": {},
   "outputs": [],
   "source": []
  }
 ],
 "metadata": {
  "kernelspec": {
   "display_name": "Python 3 (ipykernel)",
   "language": "python",
   "name": "python3"
  },
  "language_info": {
   "codemirror_mode": {
    "name": "ipython",
    "version": 3
   },
   "file_extension": ".py",
   "mimetype": "text/x-python",
   "name": "python",
   "nbconvert_exporter": "python",
   "pygments_lexer": "ipython3",
   "version": "3.9.16"
  }
 },
 "nbformat": 4,
 "nbformat_minor": 5
}
